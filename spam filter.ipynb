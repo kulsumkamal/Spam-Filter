{
 "cells": [
  {
   "cell_type": "code",
   "execution_count": 1,
   "metadata": {},
   "outputs": [],
   "source": [
    "import os\n",
    "import tarfile\n",
    "import urllib.request\n",
    "\n",
    "DOWNLOAD_ROOT = \"http://spamassassin.apache.org/old/publiccorpus/\"\n",
    "HAM_URL = DOWNLOAD_ROOT + \"20030228_easy_ham.tar.bz2\"\n",
    "SPAM_URL = DOWNLOAD_ROOT + \"20030228_spam.tar.bz2\"\n",
    "SPAM_PATH = os.path.join(\"datasets\", \"spam\")\n",
    "\n",
    "def fetch_spam_data(ham_url=HAM_URL, spam_url=SPAM_URL, spam_path=SPAM_PATH):\n",
    "    if not os.path.isdir(spam_path):\n",
    "        os.makedirs(spam_path)\n",
    "    for filename, url in ((\"ham.tar.bz2\", ham_url), (\"spam.tar.bz2\", spam_url)):\n",
    "        path = os.path.join(spam_path, filename)\n",
    "        if not os.path.isfile(path):\n",
    "            urllib.request.urlretrieve(url, path)\n",
    "        tar_bz2_file = tarfile.open(path)\n",
    "        tar_bz2_file.extractall(path=spam_path)\n",
    "        tar_bz2_file.close()"
   ]
  },
  {
   "cell_type": "code",
   "execution_count": 2,
   "metadata": {},
   "outputs": [],
   "source": [
    "fetch_spam_data()"
   ]
  },
  {
   "cell_type": "code",
   "execution_count": 3,
   "metadata": {},
   "outputs": [],
   "source": [
    "HAM_DIR = os.path.join(SPAM_PATH, \"easy_ham\")\n",
    "SPAM_DIR = os.path.join(SPAM_PATH, \"spam\")\n",
    "ham_filenames = [name for name in sorted(os.listdir(HAM_DIR)) if len(name) > 20]\n",
    "spam_filenames = [name for name in sorted(os.listdir(SPAM_DIR)) if len(name) > 20]"
   ]
  },
  {
   "cell_type": "code",
   "execution_count": 4,
   "metadata": {},
   "outputs": [
    {
     "data": {
      "text/plain": [
       "2500"
      ]
     },
     "execution_count": 4,
     "metadata": {},
     "output_type": "execute_result"
    }
   ],
   "source": [
    "len(ham_filenames)"
   ]
  },
  {
   "cell_type": "code",
   "execution_count": 5,
   "metadata": {},
   "outputs": [
    {
     "data": {
      "text/plain": [
       "500"
      ]
     },
     "execution_count": 5,
     "metadata": {},
     "output_type": "execute_result"
    }
   ],
   "source": [
    "len(spam_filenames)"
   ]
  },
  {
   "cell_type": "code",
   "execution_count": 6,
   "metadata": {},
   "outputs": [],
   "source": [
    "import email\n",
    "import email.policy\n",
    "\n",
    "def load_email(is_spam, filename, spam_path=SPAM_PATH):\n",
    "    directory = \"spam\" if is_spam else \"easy_ham\"\n",
    "    with open(os.path.join(spam_path, directory, filename), \"rb\") as f:\n",
    "        return email.parser.BytesParser(policy=email.policy.default).parse(f)"
   ]
  },
  {
   "cell_type": "code",
   "execution_count": 26,
   "metadata": {},
   "outputs": [],
   "source": [
    "ham_emails = [load_email(is_spam=False, filename=name) for name in ham_filenames]\n",
    "spam_emails = [load_email(is_spam=True, filename=name) for name in spam_filenames]"
   ]
  },
  {
   "cell_type": "code",
   "execution_count": 8,
   "metadata": {},
   "outputs": [
    {
     "name": "stdout",
     "output_type": "stream",
     "text": [
      "Martin A posted:\n",
      "Tassos Papadopoulos, the Greek sculptor behind the plan, judged that the\n",
      " limestone of Mount Kerdylio, 70 miles east of Salonika and not far from the\n",
      " Mount Athos monastic community, was ideal for the patriotic sculpture. \n",
      " \n",
      " As well as Alexander's granite features, 240 ft high and 170 ft wide, a\n",
      " museum, a restored amphitheatre and car park for admiring crowds are\n",
      "planned\n",
      "---------------------\n",
      "So is this mountain limestone or granite?\n",
      "If it's limestone, it'll weather pretty fast.\n",
      "\n",
      "------------------------ Yahoo! Groups Sponsor ---------------------~-->\n",
      "4 DVDs Free +s&p Join Now\n",
      "http://us.click.yahoo.com/pt6YBB/NXiEAA/mG3HAA/7gSolB/TM\n",
      "---------------------------------------------------------------------~->\n",
      "\n",
      "To unsubscribe from this group, send an email to:\n",
      "forteana-unsubscribe@egroups.com\n",
      "\n",
      " \n",
      "\n",
      "Your use of Yahoo! Groups is subject to http://docs.yahoo.com/info/terms/\n"
     ]
    }
   ],
   "source": [
    "print(ham_emails[1].get_content().strip())"
   ]
  },
  {
   "cell_type": "code",
   "execution_count": 9,
   "metadata": {},
   "outputs": [
    {
     "name": "stdout",
     "output_type": "stream",
     "text": [
      "1) Fight The Risk of Cancer!\n",
      "http://www.adclick.ws/p.cfm?o=315&s=pk007\n",
      "\n",
      "2) Slim Down - Guaranteed to lose 10-12 lbs in 30 days\n",
      "http://www.adclick.ws/p.cfm?o=249&s=pk007\n",
      "\n",
      "3) Get the Child Support You Deserve - Free Legal Advice\n",
      "http://www.adclick.ws/p.cfm?o=245&s=pk002\n",
      "\n",
      "4) Join the Web's Fastest Growing Singles Community\n",
      "http://www.adclick.ws/p.cfm?o=259&s=pk007\n",
      "\n",
      "5) Start Your Private Photo Album Online!\n",
      "http://www.adclick.ws/p.cfm?o=283&s=pk007\n",
      "\n",
      "Have a Wonderful Day,\n",
      "Offer Manager\n",
      "PrizeMama\n",
      "\n",
      "\n",
      "\n",
      "\n",
      "\n",
      "\n",
      "\n",
      "\n",
      "\n",
      "\n",
      "\n",
      "\n",
      "\n",
      "If you wish to leave this list please use the link below.\n",
      "http://www.qves.com/trim/?ilug@linux.ie%7C17%7C114258\n",
      "\n",
      "\n",
      "-- \n",
      "Irish Linux Users' Group: ilug@linux.ie\n",
      "http://www.linux.ie/mailman/listinfo/ilug for (un)subscription information.\n",
      "List maintainer: listmaster@linux.ie\n"
     ]
    }
   ],
   "source": [
    "print(spam_emails[1].get_content().strip())"
   ]
  },
  {
   "cell_type": "code",
   "execution_count": 10,
   "metadata": {},
   "outputs": [],
   "source": [
    "def get_email_structure(email):\n",
    "    if isinstance(email,str):\n",
    "        return email\n",
    "    payload = email.get_payload()\n",
    "    if isinstance(payload, list):\n",
    "        return \"multipart({})\".format(\",\".join([get_email_structure(e) for e in payload]))\n",
    "    else:\n",
    "        return email.get_content_type()"
   ]
  },
  {
   "cell_type": "code",
   "execution_count": 11,
   "metadata": {},
   "outputs": [],
   "source": [
    "from collections import Counter\n",
    "\n",
    "def structures_counter(emails):\n",
    "    structures = Counter()\n",
    "    for email in emails:\n",
    "        structures[get_email_structure(email)]+=1\n",
    "    return structures"
   ]
  },
  {
   "cell_type": "code",
   "execution_count": 12,
   "metadata": {},
   "outputs": [
    {
     "data": {
      "text/plain": [
       "[('text/plain', 2408),\n",
       " ('multipart(text/plain,application/pgp-signature)', 66),\n",
       " ('multipart(text/plain,text/html)', 8),\n",
       " ('multipart(text/plain,text/plain)', 4),\n",
       " ('multipart(text/plain)', 3),\n",
       " ('multipart(text/plain,application/octet-stream)', 2),\n",
       " ('multipart(text/plain,text/enriched)', 1),\n",
       " ('multipart(text/plain,application/ms-tnef,text/plain)', 1),\n",
       " ('multipart(multipart(text/plain,text/plain,text/plain),application/pgp-signature)',\n",
       "  1),\n",
       " ('multipart(text/plain,video/mng)', 1),\n",
       " ('multipart(text/plain,multipart(text/plain))', 1),\n",
       " ('multipart(text/plain,application/x-pkcs7-signature)', 1),\n",
       " ('multipart(text/plain,multipart(text/plain,text/plain),text/rfc822-headers)',\n",
       "  1),\n",
       " ('multipart(text/plain,multipart(text/plain,text/plain),multipart(multipart(text/plain,application/x-pkcs7-signature)))',\n",
       "  1),\n",
       " ('multipart(text/plain,application/x-java-applet)', 1)]"
      ]
     },
     "execution_count": 12,
     "metadata": {},
     "output_type": "execute_result"
    }
   ],
   "source": [
    "structures_counter(ham_emails).most_common()"
   ]
  },
  {
   "cell_type": "code",
   "execution_count": 13,
   "metadata": {},
   "outputs": [
    {
     "data": {
      "text/plain": [
       "[('text/plain', 218),\n",
       " ('text/html', 183),\n",
       " ('multipart(text/plain,text/html)', 45),\n",
       " ('multipart(text/html)', 20),\n",
       " ('multipart(text/plain)', 19),\n",
       " ('multipart(multipart(text/html))', 5),\n",
       " ('multipart(text/plain,image/jpeg)', 3),\n",
       " ('multipart(text/html,application/octet-stream)', 2),\n",
       " ('multipart(text/plain,application/octet-stream)', 1),\n",
       " ('multipart(text/html,text/plain)', 1),\n",
       " ('multipart(multipart(text/html),application/octet-stream,image/jpeg)', 1),\n",
       " ('multipart(multipart(text/plain,text/html),image/gif)', 1),\n",
       " ('multipart/alternative', 1)]"
      ]
     },
     "execution_count": 13,
     "metadata": {},
     "output_type": "execute_result"
    }
   ],
   "source": [
    "structures_counter(spam_emails).most_common()"
   ]
  },
  {
   "cell_type": "code",
   "execution_count": 14,
   "metadata": {},
   "outputs": [
    {
     "name": "stdout",
     "output_type": "stream",
     "text": [
      "Return-Path : <12a1mailbot1@web.de>\n",
      "Delivered-To : zzzz@localhost.spamassassin.taint.org\n",
      "Received : from localhost (localhost [127.0.0.1])\tby phobos.labs.spamassassin.taint.org (Postfix) with ESMTP id 136B943C32\tfor <zzzz@localhost>; Thu, 22 Aug 2002 08:17:21 -0400 (EDT)\n",
      "Received : from mail.webnote.net [193.120.211.219]\tby localhost with POP3 (fetchmail-5.9.0)\tfor zzzz@localhost (single-drop); Thu, 22 Aug 2002 13:17:21 +0100 (IST)\n",
      "Received : from dd_it7 ([210.97.77.167])\tby webnote.net (8.9.3/8.9.3) with ESMTP id NAA04623\tfor <zzzz@spamassassin.taint.org>; Thu, 22 Aug 2002 13:09:41 +0100\n",
      "From : 12a1mailbot1@web.de\n",
      "Received : from r-smtp.korea.com - 203.122.2.197 by dd_it7  with Microsoft SMTPSVC(5.5.1775.675.6);\t Sat, 24 Aug 2002 09:42:10 +0900\n",
      "To : dcek1a1@netsgo.com\n",
      "Subject : Life Insurance - Why Pay More?\n",
      "Date : Wed, 21 Aug 2002 20:31:57 -1600\n",
      "MIME-Version : 1.0\n",
      "Message-ID : <0103c1042001882DD_IT7@dd_it7>\n",
      "Content-Type : text/html; charset=\"iso-8859-1\"\n",
      "Content-Transfer-Encoding : quoted-printable\n"
     ]
    }
   ],
   "source": [
    "for header, value in spam_emails[0].items():\n",
    "    print(header,\":\",value)"
   ]
  },
  {
   "cell_type": "code",
   "execution_count": 15,
   "metadata": {},
   "outputs": [
    {
     "data": {
      "text/plain": [
       "email.message.EmailMessage"
      ]
     },
     "execution_count": 15,
     "metadata": {},
     "output_type": "execute_result"
    }
   ],
   "source": [
    "type(spam_emails[0])"
   ]
  },
  {
   "cell_type": "code",
   "execution_count": 16,
   "metadata": {},
   "outputs": [
    {
     "data": {
      "text/plain": [
       "'Life Insurance - Why Pay More?'"
      ]
     },
     "execution_count": 16,
     "metadata": {},
     "output_type": "execute_result"
    }
   ],
   "source": [
    "spam_emails[0]['Subject']"
   ]
  },
  {
   "cell_type": "code",
   "execution_count": 17,
   "metadata": {},
   "outputs": [],
   "source": [
    "import numpy as np\n",
    "from sklearn.model_selection import train_test_split\n",
    "\n",
    "X = np.array(spam_emails + ham_emails, dtype = object)\n",
    "y = np.array([1]*len(spam_emails) + [0]*len(ham_emails))\n",
    "\n",
    "X_train, X_test, y_train, y_test = train_test_split(X, y, test_size = 0.2, random_state = 42)"
   ]
  },
  {
   "cell_type": "code",
   "execution_count": 18,
   "metadata": {},
   "outputs": [
    {
     "data": {
      "text/plain": [
       "'<html>\\n<head>\\n<title>ReliaQuote - Save Up To 70% On Life Insurance</title>\\n<meta http-equiv=\"Content-Type\" content=\"text/html; charset=iso-8859-1\">\\n</head>\\n<body leftmargin=\"0\" topmargin=\"0\" link=\"#FFCC99\" vlink=\"#FFCC99\" alink=\"#FFCC00\">\\n<table align=\"center\" width=\"468\" border=\"0\" cellspacing=\"0\" cellpadding=\"0\" height=\"500\" bgcolor=\"993366\">\\n  <tr>\\n    <td align=\"left\" valign=\"top\" height=\"43\" width=\"56%\">\\n      <table width=\"100%\" border=\"0\" cellspacing=\"0\" cellpadding=\"3\">\\n        <tr>\\n          <td><a href=\"http://theadmanager.com/server/c.asp?ad_key=YUESBHWAKMLK&ext=1\" target=\"_blank\"><img src=\"http://www.reliaquote.com/banner/bannerads/images/logo6.gif\" width=\"120\" height=\"32\" border=\"0\"></a></td>\\n        </tr>\\n      </table>\\n    </td>\\n    <td align=\"left\" valign=\"top\" height=\"43\" width=\"44%\">&nbsp;</td>\\n  </tr>\\n  <tr>\\n    <td align=\"left\" valign=\"top\" width=\"56%\" height=\"377\">\\n      <table width=\"100%\" border=\"0\" cellspacing=\"0\" cellpadding=\"0\">\\n        <tr align=\"right\" valign=\"top\" bgcolor=\"#FFCCFF\">\\n          <td height=\"2\"><img src=\"http://www.reliaquote.com/banner/bannerads/images/headline6.gif\" width=\"220\" height=\"72\"></td>\\n        </tr>\\n        <tr align=\"center\" valign=\"top\" bgcolor=\"336699\">\\n          <td height=\"2\">\\n            <table width=\"100%\" border=\"0\" cellspacing=\"0\" cellpadding=\"0\">\\n              <tr align=\"center\" valign=\"top\">\\n                <td height=\"32\">\\n                  <table width=\"100%\" border=\"0\" cellspacing=\"0\" cellpadding=\"0\">\\n                    <tr align=\"left\" valign=\"top\">\\n                      <td height=\"34\">\\n                        <table width=\"100%\" border=\"0\" cellspacing=\"8\" cellpadding=\"0\" bgcolor=\"#993366\">\\n                          <tr align=\"center\" valign=\"top\">\\n                            <td height=\"45\">\\n                              <p><font color=\"#FFCC00\" face=\"Tahoma, Verdana, Arial\" size=\"2\"><b>Life\\n                                can change in an instant. That\\'s why it is so\\n                                important to protect your family\\'s financial future\\n                                with sufficient life insurance coverage.</b></font></p>\\n                            </td>\\n                          </tr>\\n                        </table>\\n                      </td>\\n                    </tr>\\n                  </table>\\n                </td>\\n              </tr>\\n            </table>\\n          </td>\\n        </tr>\\n        <tr bgcolor=\"#FFCC00\" align=\"center\" valign=\"middle\">\\n          <td height=\"27\"><font size=\"1\"><b><img src=\"http://www.reliaquote.com/banner/bannerads/images/freequotes6.gif\" width=\"177\" height=\"24\"></b></font></td>\\n        </tr>\\n        <tr align=\"left\" valign=\"top\" bgcolor=\"#3366CC\">\\n          <td height=\"294\">\\n            <form name=FreeQuoteForm ACTION=\"http://www.reliaquote.com/termlife/cgi-bin/banner_quote_resp.asp\" METHOD=\"get\">\\n <input type=hidden value=51100004022000000321 name=sourceid>\\n              <table class=hptbcolor cellspacing=0 cellpadding=2 width=\"100%\"\\n        border=0>\\n                <tbody>\\n                <tr>\\n                  <td width=\"100%\">\\n                    <table cellspacing=4 cellpadding=0 width=\"100%\" border=0>\\n                      <tbody>\\n                      <tr>\\n                        <td class=content width=\"35%\"><font size=\"1\" face=\"Tahoma, Verdana, Arial\" color=\"#FFFFFF\"><strong>State\\n                          of Residence:</strong></font></td>\\n                        <td class=content width=\"65%\" align=\"left\" valign=\"middle\">\\n                          <font face=\"Tahoma, Verdana, Arial\">\\n                          <select id=FormsComboBox12\\n                  size=1 name=state>\\n                            <option value=\"\" selected>Select State</option>\\n                            <option value=Alabama>Alabama</option>\\n                            <option value=Alaska>Alaska</option>\\n                            <option\\n                    value=Arizona>Arizona</option>\\n                            <option\\n                    value=Arkansas>Arkansas</option>\\n                            <option\\n                    value=California>California</option>\\n                            <option\\n                    value=Colorado>Colorado</option>\\n                            <option\\n                    value=Connecticut>Connecticut</option>\\n                            <option\\n                    value=Delaware>Delaware</option>\\n                            <option value=DC>Dist. of Columbia</option>\\n                            <option value=Florida>Florida</option>\\n                            <option value=Georgia>Georgia</option>\\n                            <option\\n                    value=Hawaii>Hawaii</option>\\n                            <option\\n                    value=Idaho>Idaho</option>\\n                            <option\\n                    value=Illinois>Illinois</option>\\n                            <option\\n                    value=Indiana>Indiana</option>\\n                            <option\\n                    value=Iowa>Iowa</option>\\n                            <option\\n                    value=Kansas>Kansas</option>\\n                            <option\\n                    value=Kentucky>Kentucky</option>\\n                            <option\\n                    value=Louisiana>Louisiana</option>\\n                            <option\\n                    value=Maine>Maine</option>\\n                            <option\\n                    value=Maryland>Maryland</option>\\n                            <option\\n                    value=Massachusetts>Massachusetts</option>\\n                            <option\\n                    value=Michigan>Michigan</option>\\n                            <option\\n                    value=Minnesota>Minnesota</option>\\n                            <option\\n                    value=Mississippi>Mississippi</option>\\n                            <option\\n                    value=Missouri>Missouri</option>\\n                            <option\\n                    value=Montana>Montana</option>\\n                            <option\\n                    value=Nebraska>Nebraska</option>\\n                            <option\\n                    value=Nevada>Nevada</option>\\n                            <option\\n                    value=\"New Hampshire\">New Hampshire</option>\\n                            <option\\n                    value=\"New Jersey\">New Jersey</option>\\n                            <option\\n                    value=\"New Mexico\">New Mexico</option>\\n                            <option\\n                    value=\"New York\">New York</option>\\n                            <option\\n                    value=\"North Carolina\">North Carolina</option>\\n                            <option\\n                    value=\"North Dakota\">North Dakota</option>\\n                            <option\\n                    value=Ohio>Ohio</option>\\n                            <option\\n                    value=Oklahoma>Oklahoma</option>\\n                            <option\\n                    value=Oregon>Oregon</option>\\n                            <option\\n                    value=Pennsylvania>Pennsylvania</option>\\n                            <option\\n                    value=\"Rhode Island\">Rhode Island</option>\\n                            <option\\n                    value=\"South Carolina\">South Carolina</option>\\n                            <option\\n                    value=\"South Dakota\">South Dakota</option>\\n                            <option\\n                    value=Tennessee>Tennessee</option>\\n                            <option\\n                    value=Texas>Texas</option>\\n                            <option value=Utah>Utah</option>\\n                            <option value=Vermont>Vermont</option>\\n                            <option\\n                    value=Virginia>Virginia</option>\\n                            <option\\n                    value=Washington>Washington</option>\\n                            <option\\n                    value=\"West Virginia\">West Virginia</option>\\n                            <option\\n                    value=Wisconsin>Wisconsin</option>\\n                            <option\\n                    value=Wyoming>Wyoming</option>\\n                          </select>\\n                          </font></td>\\n                      </tr>\\n                      <tr>\\n                        <td class=content width=\"35%\"><font size=\"1\" face=\"Tahoma, Verdana, Arial\" color=\"#FFFFFF\"><strong>Date\\n                          of Birth (MM/DD/YY):</strong></font></td>\\n                        <td noWrap width=\"65%\" align=\"left\" valign=\"middle\"> <font face=\"Tahoma, Verdana, Arial\">\\n                          <select size=1 name=MM>\\n                            <option\\n                    value=\"\" selected>MM</option>\\n                            <option value=01>01</option>\\n                            <option value=02>02</option>\\n                            <option value=03>03</option>\\n                            <option value=04>04</option>\\n                            <option value=05>05</option>\\n                            <option value=06>06</option>\\n                            <option value=07>07</option>\\n                            <option value=08>08</option>\\n                            <option value=09>09</option>\\n                            <option value=10>10</option>\\n                            <option value=11>11</option>\\n                            <option value=12>12</option>\\n                          </select>\\n                          /\\n                          <select size=1 name=DD>\\n                            <option value=\"\" selected>DD</option>\\n                            <option\\n                    value=01>01</option>\\n                            <option value=02>02</option>\\n                            <option\\n                    value=03>03</option>\\n                            <option value=04>04</option>\\n                            <option\\n                    value=05>05</option>\\n                            <option value=06>06</option>\\n                            <option\\n                    value=07>07</option>\\n                            <option value=08>08</option>\\n                            <option\\n                    value=09>09</option>\\n                            <option value=10>10</option>\\n                            <option\\n                    value=11>11</option>\\n                            <option value=12>12</option>\\n                            <option\\n                    value=13>13</option>\\n                            <option value=14>14</option>\\n                            <option\\n                    value=15>15</option>\\n                            <option value=16>16</option>\\n                            <option\\n                    value=17>17</option>\\n                            <option value=18>18</option>\\n                            <option\\n                    value=19>19</option>\\n                            <option value=20>20</option>\\n                            <option\\n                    value=21>21</option>\\n                            <option value=22>22</option>\\n                            <option\\n                    value=23>23</option>\\n                            <option value=24>24</option>\\n                            <option\\n                    value=25>25</option>\\n                            <option value=26>26</option>\\n                            <option\\n                    value=27>27</option>\\n                            <option value=28>28</option>\\n                            <option\\n                    value=29>29</option>\\n                            <option value=30>30</option>\\n                            <option\\n                    value=31>31</option>\\n                          </select>\\n                          /\\n                          <select size=1 name=YY>\\n                            <option value=\"\" selected>YY</option>\\n                            <option\\n                    value=13>13</option>\\n                            <option value=14>14</option>\\n                            <option\\n                    value=15>15</option>\\n                            <option value=16>16</option>\\n                            <option\\n                    value=17>17</option>\\n                            <option value=18>18</option>\\n                            <option\\n                    value=19>19</option>\\n                            <option value=20>20</option>\\n                            <option\\n                    value=21>21</option>\\n                            <option value=22>22</option>\\n                            <option\\n                    value=23>23</option>\\n                            <option value=24>24</option>\\n                            <option\\n                    value=25>25</option>\\n                            <option value=26>26</option>\\n                            <option\\n                    value=27>27</option>\\n                            <option value=28>28</option>\\n                            <option\\n                    value=29>29</option>\\n                            <option value=30>30</option>\\n                            <option\\n                    value=31>31</option>\\n                            <option value=32>32</option>\\n                            <option\\n                    value=33>33</option>\\n                            <option value=34>34</option>\\n                            <option\\n                    value=35>35</option>\\n                            <option value=36>36</option>\\n                            <option\\n                    value=37>37</option>\\n                            <option value=38>38</option>\\n                            <option\\n                    value=39>39</option>\\n                            <option value=40>40</option>\\n                            <option\\n                    value=41>41</option>\\n                            <option value=42>42</option>\\n                            <option\\n                    value=43>43</option>\\n                            <option value=44>44</option>\\n                            <option\\n                    value=45>45</option>\\n                            <option value=46>46</option>\\n                            <option\\n                    value=47>47</option>\\n                            <option value=48>48</option>\\n                            <option\\n                    value=49>49</option>\\n                            <option value=50>50</option>\\n                            <option\\n                    value=51>51</option>\\n                            <option value=52>52</option>\\n                            <option\\n                    value=53>53</option>\\n                            <option value=54>54</option>\\n                            <option\\n                    value=55>55</option>\\n                            <option value=56>56</option>\\n                            <option\\n                    value=57>57</option>\\n                            <option value=58>58</option>\\n                            <option\\n                    value=59>59</option>\\n                            <option value=60>60</option>\\n                            <option\\n                    value=61>61</option>\\n                            <option value=62>62</option>\\n                            <option\\n                    value=63>63</option>\\n                            <option value=64>64</option>\\n                            <option\\n                    value=65>65</option>\\n                            <option value=66>66</option>\\n                            <option\\n                    value=67>67</option>\\n                            <option value=68>68</option>\\n                            <option\\n                    value=69>69</option>\\n                            <option value=70>70</option>\\n                            <option\\n                    value=71>71</option>\\n                            <option value=72>72</option>\\n                            <option\\n                    value=73>73</option>\\n                            <option value=74>74</option>\\n                            <option\\n                    value=75>75</option>\\n                            <option value=76>76</option>\\n                            <option\\n                    value=77>77</option>\\n                            <option value=78>78</option>\\n                            <option\\n                    value=79>79</option>\\n                            <option value=80>80</option>\\n                            <option\\n                    value=81>81</option>\\n                            <option value=82>82</option>\\n                            <option\\n                    value=83>83</option>\\n                                          <option\\n                    value=84>84</option>\\n                          </select>\\n                          </font></td>\\n                      </tr>\\n                      <tr>\\n                        <td class=content width=\"35%\"><font size=\"1\" face=\"Tahoma, Verdana, Arial\" color=\"#FFFFFF\"><strong>Sex:</strong></font></td>\\n                        <td noWrap width=\"65%\" align=\"left\" valign=\"middle\">\\n                          <table cellspacing=0 width=\"100%\" border=0>\\n                            <tbody>\\n                            <tr>\\n                              <td width=\"50%\"> <font color=\"#FFFFFF\" size=\"1\" face=\"Tahoma, Verdana, Arial\"><b>\\n                                <input id=FormsRadioButton1 type=radio\\n                        value=M name=Sex>\\n                                Male</b></font></td>\\n                              <td width=\"50%\"> <font color=\"#FFFFFF\" size=\"1\" face=\"Tahoma, Verdana, Arial\"><b>\\n                                <input id=FormsRadioButton2 type=radio\\n                        value=F name=Sex>\\n                                Female</b></font></td>\\n                            </tr>\\n                            </tbody>\\n                          </table>\\n                        </td>\\n                      </tr>\\n                      <tr>\\n                        <td class=content width=\"35%\"><font size=\"1\" face=\"Tahoma, Verdana, Arial\" color=\"#FFFFFF\"><strong>Have\\n                          you used any tobacco products in the last 12 months?</strong></font></td>\\n                        <td noWrap width=\"65%\" align=\"left\" valign=\"middle\">\\n                          <table cellspacing=0 width=\"100%\" border=0>\\n                            <tbody>\\n                            <tr>\\n                              <td width=\"50%\"> <b><font size=\"1\" face=\"Tahoma, Verdana, Arial\" color=\"#FFFFFF\">\\n                                <input id=FormsRadioButton4 type=radio\\n                        value=N name=Tobacco>\\n                                No</font></b></td>\\n                              <td width=\"50%\"> <b><font size=\"1\" face=\"Tahoma, Verdana, Arial\" color=\"#FFFFFF\">\\n                                <input id=FormsRadioButton3 type=radio\\n                        value=Y name=Tobacco>\\n                                Yes</font></b></td>\\n                            </tr>\\n                            </tbody>\\n                          </table>\\n                        </td>\\n                      </tr>\\n                      <tr>\\n                        <td class=content width=\"35%\"><font size=\"1\" face=\"Tahoma, Verdana, Arial\" color=\"#FFFFFF\"><strong>Coverage\\n                          Amount:</strong></font></td>\\n                        <td class=content width=\"65%\" align=\"left\" valign=\"middle\">\\n                          <font face=\"Tahoma, Verdana, Arial\">\\n                          <select id=FormsComboBox11\\n                  size=1 name=coverage-amount>\\n                            <option value=\"\"\\n                    selected>Select Amount</option>\\n                            <option\\n                    value=100000.00>100,000</option>\\n                            <option\\n                    value=125000.00>125,000</option>\\n                            <option\\n                    value=150000.00>150,000</option>\\n                            <option\\n                    value=175000.00>175,000</option>\\n                            <option\\n                    value=200000.00>200,000</option>\\n                            <option\\n                    value=225000.00>225,000</option>\\n                            <option\\n                    value=250000.00>250,000</option>\\n                            <option\\n                    value=275000.00>275,000</option>\\n                            <option\\n                    value=300000.00>300,000</option>\\n                            <option\\n                    value=325000.00>325,000</option>\\n                            <option\\n                    value=350000.00>350,000</option>\\n                            <option\\n                    value=375000.00>375,000</option>\\n                            <option\\n                    value=400000.00>400,000</option>\\n                            <option\\n                    value=425000.00>425,000</option>\\n                            <option\\n                    value=450000.00>450,000</option>\\n                            <option\\n                    value=475000.00>475,000</option>\\n                            <option\\n                    value=500000.00>500,000</option>\\n                            <option\\n                    value=550000.00>550,000</option>\\n                            <option\\n                    value=600000.00>600,000</option>\\n                            <option\\n                    value=650000.00>650,000</option>\\n                            <option\\n                    value=700000.00>700,000</option>\\n                            <option\\n                    value=750000.00>750,000</option>\\n                            <option\\n                    value=800000.00>800,000</option>\\n                            <option\\n                    value=850000.00>850,000</option>\\n                            <option\\n                    value=900000.00>900,000</option>\\n                            <option\\n                    value=950000.00>950,000</option>\\n                            <option\\n                    value=1000000.00>1,000,000</option>\\n                            <option\\n                    value=1250000.00>1,250,000</option>\\n                            <option\\n                    value=1500000.00>1,500,000</option>\\n                            <option\\n                    value=1750000.00>1,750,000</option>\\n                            <option\\n                    value=2000000.00>2,000,000</option>\\n                            <option\\n                    value=2250000.00>2,250,000</option>\\n                            <option\\n                    value=2500000.00>2,500,000</option>\\n                            <option\\n                    value=3000000.00>3,000,000</option>\\n                            <option\\n                    value=3500000.00>3,500,000</option>\\n                            <option\\n                    value=4000000.00>4,000,000</option>\\n                            <option\\n                    value=4500000.00>4,500,000</option>\\n                            <option\\n                    value=5000000.00>5,000,000</option>\\n                            <option\\n                    value=6000000.00>6,000,000</option>\\n                            <option\\n                    value=7000000.00>7,000,000</option>\\n                            <option\\n                    value=8000000.00>8,000,000</option>\\n                            <option\\n                    value=9000000.00>9,000,000</option>\\n                            <option\\n                    value=10000000.00>10,000,000</option>\\n                            <option\\n                    value=11000000.00>11,000,000</option>\\n                            <option\\n                    value=12000000.00>12,000,000</option>\\n                            <option\\n                    value=13000000.00>13,000,000</option>\\n                            <option\\n                    value=14000000.00>14,000,000</option>\\n                            <option\\n                    value=15000000.00>15,000,000</option>\\n                          </select>\\n                          </font></td>\\n                      </tr>\\n                      <tr>\\n                        <td class=content width=\"35%\"><font size=\"1\" face=\"Tahoma, Verdana, Arial\" color=\"#FFFFFF\"><strong>How\\n                          long do you need the coverage?</strong></font></td>\\n                        <td class=content width=\"65%\" align=\"left\" valign=\"middle\">\\n                          <font face=\"Tahoma, Verdana, Arial\">\\n                          <select id=FormsComboBox10\\n                  size=1 name=plan>\\n                            <option value=\"\" selected>Select Year</option>\\n                            <option value=5>5 Years</option>\\n                            <option\\n                    value=10>10 Years</option>\\n                            <option value=15>15 Years</option>\\n                            <option value=20>20 Years</option>\\n                            <option\\n                    value=25>25 Years</option>\\n                            <option value=30>30 Years</option>\\n                          </select>\\n                          </font></td>\\n                      </tr>\\n                      <tr>\\n                        <td width=\"35%\" height=\"2\">&nbsp; </td>\\n                        <td class=content align=left width=\"65%\" height=\"2\" valign=\"top\">\\n                          <font face=\"Tahoma, Verdana, Arial\">\\n                          <input id=FormsButton1 type=submit value=\"Get A Quote\" name=SubmitButton>\\n                          </font></td>\\n                      </tr>\\n                      </tbody>\\n                    </table>\\n                  </td>\\n                </tr>\\n                </tbody>\\n              </table>\\n            </form>\\n\\n          </td>\\n        </tr>\\n      </table>\\n    <td align=\"left\" valign=\"top\" width=\"44%\" height=\"377\"><a href=\"http://theadmanager.com/server/c.asp?ad_key=YUESBHWAKMLK&ext=1\" target=\"_blank\"><img src=\"http://www.reliaquote.com/banner/bannerads/images/photo6.jpg\" width=\"210\" height=\"173\" border=\"0\"></a><br>\\n      <table width=\"100%\" border=\"0\" cellspacing=\"0\" cellpadding=\"0\">\\n        <tr align=\"center\" valign=\"top\">\\n          <td height=\"217\" nowrap>\\n            <table width=\"100%\" border=\"0\" cellspacing=\"0\" cellpadding=\"10\">\\n              <tr align=\"left\" valign=\"top\">\\n                <td height=\"40\">\\n                  <div align=\"center\"><font face=\"Tahoma, Verdana, Arial\" size=\"1\" color=\"#FFFFFF\"><b>ReliaQuote\\n                    makes it easy and affordable. We can instantly provide you\\n                    with free quotes from highly rated insurance companies. </b></font></div>\\n                </td>\\n              </tr>\\n            </table>\\n            <table width=\"100%\" border=\"0\" cellspacing=\"0\" cellpadding=\"0\">\\n              <tr align=\"left\" valign=\"top\">\\n                <td height=\"106\">\\n                  <table width=\"100%\" border=\"0\" cellspacing=\"0\" cellpadding=\"0\">\\n                    <tr align=\"center\" valign=\"top\">\\n                      <td height=\"2\"><font face=\"Tahoma, Verdana, Arial\" size=\"3\" color=\"#FFFFFF\"><b>Save\\n                        up to</b></font></td>\\n                    </tr>\\n                    <tr align=\"center\" valign=\"top\">\\n                      <td height=\"36\"><a href=\"http://theadmanager.com/server/c.asp?ad_key=YUESBHWAKMLK&ext=1\" target=\"_blank\"><img src=\"http://www.reliaquote.com/banner/bannerads/images/70percent6.gif\" width=\"131\" height=\"57\" border=\"0\"></a></td>\\n                    </tr>\\n                    <tr align=\"center\" valign=\"top\">\\n                      <td height=\"8\"><font face=\"Tahoma, Verdana, Arial\" size=\"3\" color=\"#FFFFFF\"><b>on\\n                        Life Insurance</b></font></td>\\n                    </tr>\\n                  </table>\\n                </td>\\n              </tr>\\n              <tr align=\"center\" valign=\"middle\">\\n                <td height=\"67\"><font color=\"#FFCC33\" size=\"3\" face=\"Tahoma, Verdana, Arial\"><b><font color=\"#FFCC99\" size=\"2\"><a href=\"http://theadmanager.com/server/c.asp?ad_key=YUESBHWAKMLK&ext=1\" target=\"_blank\">\\n                  <font color=\"#FFFFFF\">Compare quotes today</font></a><font color=\"#FFFFFF\">.</font></font><font face=\"Tahoma, Verdana, Arial\" size=\"2\" color=\"#0000FF\">\\n                  </font><font face=\"Tahoma, Verdana, Arial\" size=\"2\" color=\"#FFCC00\"><br>\\n                  There is nothing more <br>\\n                  important than protecting <br>\\n                  their future.<br>\\n                  </font></b></font></td>\\n              </tr>\\n            </table>\\n          </td>\\n        </tr>\\n      </table>\\n      <div align=\"center\"><font color=\"#FFFFFF\" size=\"1\">Copyright 2001 ReliaQuote,\\n        Inc.<br>\\n        All rights reserved.</font></div>\\n    </td>\\n  </tr>\\n</table>\\n<img src=\"http://admanmail.com/server/t.asp?ad_key=YUESBHWAKMLK\" width=\"1\" height=\"1\" hspace=\"0\" vspace=\"0\" border=\"0\" alt=\"T\">\\n<hr size=\"1\" noshade>\\n<font face=\"Arial\" size=\"1\" color=\"#000000\">\\nYou are receiving this mailing because you are a\\nmember of SendGreatOffers.com and subscribed as:JM@NETNOTEINC.COM\\nTo unsubscribe <a href=\"http://admanmail.com/subscription.asp?em=JM@NETNOTEINC.COM&l=SGO\">\\n<font face=\"arial\" size=\"1\" color=\"#000000\">Click Here</a>\\n(http://admanmail.com/subscription.asp?em=JM@NETNOTEINC.COM&l=SGO)\\nor reply to this email with REMOVE in the subject line - you must\\nalso include the body of this message to be unsubscribed. Any correspondence about\\nthe products/services should be directed to\\nthe company in the ad.\\n%EM%JM@NETNOTEINC.COM%/EM%\\n<BR></FONT> </body> </html>\\n\\n'"
      ]
     },
     "execution_count": 18,
     "metadata": {},
     "output_type": "execute_result"
    }
   ],
   "source": [
    "spam_emails[7].get_content()"
   ]
  },
  {
   "cell_type": "code",
   "execution_count": 31,
   "metadata": {},
   "outputs": [],
   "source": [
    "import re\n",
    "from html import unescape\n",
    "\n",
    "def html_to_plain_text(html):\n",
    "    text = re.sub(\"<head.*?>.*?</head>\", '', html, flags=re.I|re.S|re.M)\n",
    "    text = re.sub('<a\\s.*?>',' HYPERLINK ', text, flags=re.I|re.S|re.M)\n",
    "    text = re.sub('<.*?>', '', text, flags=re.S|re.M)\n",
    "    text = re.sub(r'(\\s*\\n)+','\\n', text, flags=re.S|re.M)\n",
    "    return unescape(text)"
   ]
  },
  {
   "cell_type": "code",
   "execution_count": 28,
   "metadata": {},
   "outputs": [
    {
     "name": "stdout",
     "output_type": "stream",
     "text": [
      "<HTML><HEAD><TITLE>Hi i'm Rita !!!</TITLE>\n",
      "<META http-equiv=Content-Type content=\"text/html; charset=windows-1252\">\n",
      "<META content=\"Microsoft FrontPage 4.0\" name=GENERATOR></HEAD>\n",
      "<BODY bgcolor=\"#FF00FF\" link=\"#800000\" vlink=\"#800000\" alink=\"#800000\" text=\"#FF0000\"><LEFT>\n",
      "<TABLE width=427 height=\"60\">\n",
      "  <TBODY>\n",
      "  <TR>\n",
      "    <TD align=center bgcolor=\"#FF00FF\" width=\"419\" height=\"56\"><b><a href=\"http://www.amsterdamcash.com/click.cfm?siteid=0017&amp;companyid=33043\"><font color=\"#800000\"><span style=\"background-color: #FFFFFF\"><font face=\"Times New Roman\" size=\"7\"><i>R</i></font></span><font face=\"verdana\" size=\"6\"><span style=\"background-color: #00FFFF\">E</span><span style=\"background-color: #FFFF00\">A</span></font><font face=\"Times New Roman\" size=\"6\"><span style=\"background-color: #00FF00\">D</span></font><font face=\"verdana\" size=\"6\">\n",
      "      </font><span style=\"background-color: #FFFFFF\"><font face=\"Tahoma\" size=\"7\"><i>M</i></font></span><font face=\"Lucida Console\" size=\"6\"><span style=\"b\n"
     ]
    }
   ],
   "source": [
    "spam_em = [email for email in X_train[y_train==1] if get_email_structure(email)=='text/html']\n",
    "print(spam_em[7].get_content().strip()[:1000])"
   ]
  },
  {
   "cell_type": "code",
   "execution_count": 33,
   "metadata": {},
   "outputs": [
    {
     "name": "stdout",
     "output_type": "stream",
     "text": [
      " We thank you for just a moment of your time.  NextResearch is inviting you to join a panel of consumer electronics users now being created to help manufacturers, network programmers, and entertainment companies shape their future offerings.  In exchange for your willingness to participate, there will be prizes and incentives awarded. ALL CONTACT INFORMATION WILL BE HELD IN STRICTEST CONFIDENCE AND WE WILL NEVER TRY TO SELL YOU ANYTHING.  You will be able to opt-out of the panel at any time.\n",
      "\t\t\t\t\tPlease click here  HYPERLINK http://65.19.137.17/nextresearch/nr.htm if you would like to participate in your first survey and earn a chance to win one of 25 new Digital Video Recorders being awarded in September!  (You do not have to join the panel to participate in this survey.) This is a national market research program conducted with the highest ethical standards. Feel free to contact program director, Jennifer Choate at 901.491.4995 with any questions.  To unsubscribe from this list, simp\n"
     ]
    }
   ],
   "source": [
    "print(html_to_plain_text(spam_em[0].get_content())[:1000])"
   ]
  },
  {
   "cell_type": "code",
   "execution_count": 34,
   "metadata": {},
   "outputs": [],
   "source": [
    "def email_to_text(email):\n",
    "    html = None\n",
    "    for part in email.walk():\n",
    "        ctype = part.get_content_type()\n",
    "        if not ctype in (\"text/plain\",'text/html'):\n",
    "            continue\n",
    "        try:\n",
    "            content = part.get_content()\n",
    "        except:\n",
    "            content = str(part.get_payload())\n",
    "        if ctype == 'text/plain':\n",
    "            return content\n",
    "        else:\n",
    "            html = content\n",
    "    if html:\n",
    "        return html_to_plain_text(html)"
   ]
  },
  {
   "cell_type": "code",
   "execution_count": 35,
   "metadata": {},
   "outputs": [
    {
     "name": "stdout",
     "output_type": "stream",
     "text": [
      "Computations => comput\n",
      "Computation => comput\n",
      "Computing => comput\n",
      "Computed => comput\n",
      "Compute => comput\n",
      "Compulsive => compuls\n"
     ]
    }
   ],
   "source": [
    "import nltk\n",
    "\n",
    "stemmer = nltk.PorterStemmer()\n",
    "for word in (\"Computations\", \"Computation\", \"Computing\", \"Computed\", \"Compute\", \"Compulsive\"):\n",
    "    print(word, \"=>\", stemmer.stem(word))"
   ]
  },
  {
   "cell_type": "code",
   "execution_count": 40,
   "metadata": {},
   "outputs": [
    {
     "name": "stdout",
     "output_type": "stream",
     "text": [
      "['github.com', 'https://youtu.be/7Pq-S557XQU?t=3m32s']\n"
     ]
    }
   ],
   "source": [
    "import urlextract\n",
    "url_extractor = urlextract.URLExtract()\n",
    "print(url_extractor.find_urls(\"Will it detect github.com and https://youtu.be/7Pq-S557XQU?t=3m32s\"))"
   ]
  },
  {
   "cell_type": "code",
   "execution_count": 79,
   "metadata": {},
   "outputs": [],
   "source": [
    "from sklearn.base import BaseEstimator, TransformerMixin\n",
    "\n",
    "class EmailToWordCounterTransformer(BaseEstimator, TransformerMixin):\n",
    "    def __init__(self, strip_headers=True, lower_case=True, remove_punctuation=True,\n",
    "                 replace_urls=True, replace_numbers=True, stemming=True):\n",
    "        self.strip_headers = strip_headers\n",
    "        self.lower_case = lower_case\n",
    "        self.remove_punctuation = remove_punctuation\n",
    "        self.replace_urls = replace_urls\n",
    "        self.replace_numbers = replace_numbers\n",
    "        self.stemming = stemming\n",
    "    def fit(self, X, y=None):\n",
    "        return self\n",
    "    def transform(self, X, y=None):\n",
    "        X_transformed = []\n",
    "        for email in X:\n",
    "            text = email_to_text(email) or \"\"\n",
    "            if self.lower_case:\n",
    "                text = text.lower()\n",
    "            if self.replace_urls and url_extractor is not None:\n",
    "                urls = list(set(url_extractor.find_urls(text)))\n",
    "                urls.sort(key=lambda url: len(url), reverse=True)\n",
    "                for url in urls:\n",
    "                    text = text.replace(url, \" URL \")\n",
    "            if self.replace_numbers:\n",
    "                text = re.sub(r'\\d+(?:\\.\\d*)?(?:[eE][+-]?\\d+)?', 'NUMBER', text)\n",
    "            if self.remove_punctuation:\n",
    "                text = re.sub(r'\\W+', ' ', text, flags=re.M)\n",
    "            word_counts = Counter(text.split())\n",
    "            if self.stemming and stemmer is not None:\n",
    "                stemmed_word_counts = Counter()\n",
    "                for word, count in word_counts.items():\n",
    "                    stemmed_word = stemmer.stem(word)\n",
    "                    stemmed_word_counts[stemmed_word] += count\n",
    "                word_counts = stemmed_word_counts\n",
    "            X_transformed.append(word_counts)\n",
    "        return np.array(X_transformed)"
   ]
  },
  {
   "cell_type": "code",
   "execution_count": 80,
   "metadata": {},
   "outputs": [],
   "source": [
    "from scipy.sparse import csr_matrix\n",
    "\n",
    "class WordCounterToVectorTransformer(BaseEstimator, TransformerMixin):\n",
    "    def __init__(self, vocabulary_size=1000):\n",
    "        self.vocabulary_size = vocabulary_size\n",
    "    def fit(self, X, y=None):\n",
    "        total_count = Counter()\n",
    "        for word_count in X:\n",
    "            for word, count in word_count.items():\n",
    "                total_count[word] += min(count, 10)\n",
    "        most_common = total_count.most_common()[:self.vocabulary_size]\n",
    "        self.vocabulary_ = {word: index + 1 for index, (word, count) in enumerate(most_common)}\n",
    "        return self\n",
    "    def transform(self, X, y=None):\n",
    "        rows = []\n",
    "        cols = []\n",
    "        data = []\n",
    "        for row, word_count in enumerate(X):\n",
    "            for word, count in word_count.items():\n",
    "                rows.append(row)\n",
    "                cols.append(self.vocabulary_.get(word, 0))\n",
    "                data.append(count)\n",
    "        return csr_matrix((data, (rows, cols)), shape=(len(X), self.vocabulary_size + 1))"
   ]
  },
  {
   "cell_type": "code",
   "execution_count": 81,
   "metadata": {},
   "outputs": [],
   "source": [
    "from sklearn.pipeline import Pipeline\n",
    "\n",
    "preprocess_pipeline = Pipeline([\n",
    "    (\"email_to_wordcount\", EmailToWordCounterTransformer()),\n",
    "    (\"wordcount_to_vector\", WordCounterToVectorTransformer()),\n",
    "])\n",
    "\n",
    "X_train_transformed = preprocess_pipeline.fit_transform(X_train)"
   ]
  },
  {
   "cell_type": "code",
   "execution_count": 82,
   "metadata": {},
   "outputs": [
    {
     "name": "stderr",
     "output_type": "stream",
     "text": [
      "[Parallel(n_jobs=1)]: Using backend SequentialBackend with 1 concurrent workers.\n"
     ]
    },
    {
     "name": "stdout",
     "output_type": "stream",
     "text": [
      "[CV]  ................................................................\n",
      "[CV] .................................... , score=0.985, total=   0.3s\n",
      "[CV]  ................................................................\n",
      "[CV] .................................... , score=0.990, total=   0.1s\n",
      "[CV]  ................................................................\n"
     ]
    },
    {
     "name": "stderr",
     "output_type": "stream",
     "text": [
      "[Parallel(n_jobs=1)]: Done   1 out of   1 | elapsed:    0.2s remaining:    0.0s\n",
      "[Parallel(n_jobs=1)]: Done   2 out of   2 | elapsed:    0.3s remaining:    0.0s\n"
     ]
    },
    {
     "name": "stdout",
     "output_type": "stream",
     "text": [
      "[CV] .................................... , score=0.986, total=   0.2s\n"
     ]
    },
    {
     "name": "stderr",
     "output_type": "stream",
     "text": [
      "[Parallel(n_jobs=1)]: Done   3 out of   3 | elapsed:    0.5s finished\n"
     ]
    },
    {
     "data": {
      "text/plain": [
       "0.9870833333333334"
      ]
     },
     "execution_count": 82,
     "metadata": {},
     "output_type": "execute_result"
    }
   ],
   "source": [
    "from sklearn.linear_model import LogisticRegression\n",
    "from sklearn.model_selection import cross_val_score\n",
    "\n",
    "log_clf = LogisticRegression(solver=\"lbfgs\", max_iter=1000, random_state=42)\n",
    "score = cross_val_score(log_clf, X_train_transformed, y_train, cv=3, verbose=3)\n",
    "score.mean()"
   ]
  },
  {
   "cell_type": "code",
   "execution_count": 83,
   "metadata": {},
   "outputs": [
    {
     "name": "stdout",
     "output_type": "stream",
     "text": [
      "Precision: 99.11%\n",
      "Recall: 94.07%\n"
     ]
    }
   ],
   "source": [
    "from sklearn.metrics import precision_score, recall_score\n",
    "\n",
    "X_test_transformed = preprocess_pipeline.transform(X_test)\n",
    "\n",
    "log_clf = LogisticRegression(solver=\"lbfgs\", max_iter=1000, random_state=42)\n",
    "log_clf.fit(X_train_transformed, y_train)\n",
    "\n",
    "y_pred = log_clf.predict(X_test_transformed)\n",
    "\n",
    "print(\"Precision: {:.2f}%\".format(100 * precision_score(y_test, y_pred)))\n",
    "print(\"Recall: {:.2f}%\".format(100 * recall_score(y_test, y_pred)))"
   ]
  },
  {
   "cell_type": "code",
   "execution_count": null,
   "metadata": {},
   "outputs": [],
   "source": []
  }
 ],
 "metadata": {
  "kernelspec": {
   "display_name": "Python 3",
   "language": "python",
   "name": "python3"
  },
  "language_info": {
   "codemirror_mode": {
    "name": "ipython",
    "version": 3
   },
   "file_extension": ".py",
   "mimetype": "text/x-python",
   "name": "python",
   "nbconvert_exporter": "python",
   "pygments_lexer": "ipython3",
   "version": "3.8.5"
  }
 },
 "nbformat": 4,
 "nbformat_minor": 4
}
